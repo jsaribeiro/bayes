{
 "cells": [
  {
   "cell_type": "code",
   "execution_count": 1,
   "metadata": {
    "collapsed": true
   },
   "outputs": [],
   "source": [
    "def fact(n):\n",
    "    if n <= 0:\n",
    "        return 1\n",
    "    return n*fact(n-1)"
   ]
  },
  {
   "cell_type": "code",
   "execution_count": 4,
   "metadata": {
    "collapsed": false
   },
   "outputs": [
    {
     "data": {
      "text/plain": [
       "3628800"
      ]
     },
     "execution_count": 4,
     "metadata": {},
     "output_type": "execute_result"
    }
   ],
   "source": [
    "fact(10)"
   ]
  },
  {
   "cell_type": "code",
   "execution_count": 6,
   "metadata": {
    "collapsed": false
   },
   "outputs": [
    {
     "name": "stdout",
     "output_type": "stream",
     "text": [
      "\n",
      "Particle Swarm Optimisation\n",
      "\n",
      "PARAMETERS\n",
      "---------\n",
      "Population size :  100\n",
      "Dimensions      :  2\n",
      "Error Criterion :  1e-05\n",
      "c1              :  2\n",
      "c2              :  2\n",
      "function        :  f6\n",
      "RESULTS\n",
      "-------\n",
      "gbest fitness   :  0.999999784418\n",
      "gbest params    :  [ -4.59274265e-04  -6.65897468e-05]\n",
      "iterations      :  8\n"
     ]
    }
   ],
   "source": [
    "'''\n",
    "pso.py\n",
    "A simple implementation of the Particle Swarm Optimisation Algorithm.\n",
    "Uses Numpy for matrix operations. \n",
    "Pradeep Gowda 2009-03-16\n",
    "'''\n",
    "\n",
    "from numpy import array\n",
    "from random import random\n",
    "from math import sin, sqrt\n",
    "\n",
    "iter_max = 10000\n",
    "pop_size = 100\n",
    "dimensions = 2\n",
    "c1 = 2\n",
    "c2 = 2\n",
    "err_crit = 0.00001\n",
    "\n",
    "class Particle:\n",
    "    pass\n",
    "        \n",
    "\n",
    "def f6(param):\n",
    "    '''Schaffer's F6 function'''\n",
    "    para = param*10\n",
    "    para = param[0:2]\n",
    "    num = (sin(sqrt((para[0] * para[0]) + (para[1] * para[1])))) * \\\n",
    "        (sin(sqrt((para[0] * para[0]) + (para[1] * para[1])))) - 0.5\n",
    "    denom = (1.0 + 0.001 * ((para[0] * para[0]) + (para[1] * para[1]))) * \\\n",
    "            (1.0 + 0.001 * ((para[0] * para[0]) + (para[1] * para[1])))\n",
    "    f6 =  0.5 - (num/denom)\n",
    "    errorf6 = 1 - f6\n",
    "    return f6, errorf6;\n",
    " \n",
    " \n",
    "#initialize the particles\n",
    "particles = []\n",
    "for i in range(pop_size):\n",
    "    p = Particle()\n",
    "    p.params = array([random() for i in range(dimensions)])\n",
    "    p.fitness = 0.0\n",
    "    p.v = 0.0\n",
    "    particles.append(p)\n",
    "\n",
    "# let the first particle be the global best\n",
    "gbest = particles[0]\n",
    "err = 999999999\n",
    "while i < iter_max :\n",
    "    for p in particles:\n",
    "        fitness,err = f6(p.params)\n",
    "        if fitness > p.fitness:\n",
    "            p.fitness = fitness\n",
    "            p.best = p.params\n",
    "\n",
    "        if fitness > gbest.fitness:\n",
    "            gbest = p\n",
    "        v = p.v + c1 * random() * (p.best - p.params) \\\n",
    "                + c2 * random() * (gbest.params - p.params)\n",
    "        p.params = p.params + v\n",
    "          \n",
    "    i  += 1\n",
    "    if err < err_crit:\n",
    "        break\n",
    "    #progress bar. '.' = 10%\n",
    "    if i % (iter_max/10) == 0:\n",
    "        print '.'\n",
    "\n",
    "print '\\nParticle Swarm Optimisation\\n'\n",
    "print 'PARAMETERS\\n','-'*9\n",
    "print 'Population size : ', pop_size\n",
    "print 'Dimensions      : ', dimensions\n",
    "print 'Error Criterion : ', err_crit\n",
    "print 'c1              : ', c1\n",
    "print 'c2              : ', c2\n",
    "print 'function        :  f6'\n",
    "\n",
    "print 'RESULTS\\n', '-'*7\n",
    "print 'gbest fitness   : ', gbest.fitness\n",
    "print 'gbest params    : ', gbest.params\n",
    "print 'iterations      : ', i+1\n",
    "## Uncomment to print particles\n",
    "#for p in particles:\n",
    "#    print 'params: %s, fitness: %s, best: %s' % (p.params, p.fitness, p.best)"
   ]
  },
  {
   "cell_type": "code",
   "execution_count": null,
   "metadata": {
    "collapsed": true
   },
   "outputs": [],
   "source": []
  }
 ],
 "metadata": {
  "kernelspec": {
   "display_name": "Python 2",
   "language": "python",
   "name": "python2"
  },
  "language_info": {
   "codemirror_mode": {
    "name": "ipython",
    "version": 2
   },
   "file_extension": ".py",
   "mimetype": "text/x-python",
   "name": "python",
   "nbconvert_exporter": "python",
   "pygments_lexer": "ipython2",
   "version": "2.7.11"
  }
 },
 "nbformat": 4,
 "nbformat_minor": 0
}
