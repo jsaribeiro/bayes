{
 "cells": [
  {
   "cell_type": "code",
   "execution_count": 3,
   "metadata": {
    "collapsed": true
   },
   "outputs": [],
   "source": [
    "# particleswarm.py\n",
    "# python 3.4.3\n",
    "# demo of particle swarm optimization (PSO)\n",
    "# solves Rastrigin's function\n",
    "\n",
    "import random\n",
    "import math    # cos() for Rastrigin\n",
    "import copy    # array-copying convenience\n",
    "import sys     # max float"
   ]
  },
  {
   "cell_type": "code",
   "execution_count": 2,
   "metadata": {
    "collapsed": true
   },
   "outputs": [],
   "source": [
    "# ------------------------------------\n",
    "\n",
    "def show_vector(vector):\n",
    "  for i in range(len(vector)):\n",
    "    if i % 8 == 0: # 8 columns\n",
    "      print(\"\\n\", end=\"\")\n",
    "    if vector[i] >= 0.0:\n",
    "      print(' ', end=\"\")\n",
    "    print(\"%.4f\" % vector[i], end=\"\") # 4 decimals\n",
    "    print(\" \", end=\"\")\n",
    "  print(\"\\n\")\n",
    "\n",
    "def error(position):\n",
    "  err = 0.0\n",
    "  for i in range(len(position)):\n",
    "    xi = position[i]\n",
    "    err += (xi * xi) - (10 * math.cos(2 * math.pi * xi)) + 10\n",
    "  return err\n",
    "\n",
    "# ------------------------------------\n"
   ]
  },
  {
   "cell_type": "code",
   "execution_count": 4,
   "metadata": {
    "collapsed": true
   },
   "outputs": [],
   "source": [
    "class Particle:\n",
    "  def __init__(self, dim, minx, maxx, seed):\n",
    "    self.rnd = random.Random(seed)\n",
    "    self.position = [0.0 for i in range(dim)]\n",
    "    self.velocity = [0.0 for i in range(dim)]\n",
    "    self.best_part_pos = [0.0 for i in range(dim)]\n",
    "\n",
    "    for i in range(dim):\n",
    "      self.position[i] = ((maxx - minx) *\n",
    "        self.rnd.random() + minx)\n",
    "      self.velocity[i] = ((maxx - minx) *\n",
    "        self.rnd.random() + minx)\n",
    "\n",
    "    self.error = error(self.position) # curr error\n",
    "    self.best_part_pos = copy.copy(self.position) \n",
    "    self.best_part_err = self.error # best error"
   ]
  },
  {
   "cell_type": "code",
   "execution_count": null,
   "metadata": {
    "collapsed": true
   },
   "outputs": [],
   "source": []
  },
  {
   "cell_type": "code",
   "execution_count": 1,
   "metadata": {
    "collapsed": false
   },
   "outputs": [
    {
     "ename": "SyntaxError",
     "evalue": "EOL while scanning string literal (<ipython-input-1-dc6fffcd3c34>, line 114)",
     "output_type": "error",
     "traceback": [
      "\u001b[1;36m  File \u001b[1;32m\"<ipython-input-1-dc6fffcd3c34>\"\u001b[1;36m, line \u001b[1;32m114\u001b[0m\n\u001b[1;33m    print(\"\\nBegin particle swarm optimization\u001b[0m\n\u001b[1;37m                                              ^\u001b[0m\n\u001b[1;31mSyntaxError\u001b[0m\u001b[1;31m:\u001b[0m EOL while scanning string literal\n"
     ]
    }
   ],
   "source": [
    "\n",
    "\n",
    "\n",
    "\n",
    "\n",
    "\n",
    "\n",
    "\n",
    "    \n",
    "        swarm[i].velocity[k] = ( (w * swarm[i].velocity[k]) +\n",
    "          (c1 * r1 * (swarm[i].best_part_pos[k] -\n",
    "          swarm[i].position[k])) +  \n",
    "          (c2 * r2 * (best_swarm_pos[k] -\n",
    "          swarm[i].position[k])) )  \n",
    "\n",
    "        if swarm[i].velocity[k] < minx:\n",
    "          swarm[i].velocity[k] = minx\n",
    "        elif swarm[i].velocity[k] > maxx:\n",
    "          swarm[i].velocity[k] = maxx\n",
    "\n",
    "      # compute new position using new velocity\n",
    "      for k in range(dim): \n",
    "        swarm[i].position[k] += swarm[i].velocity[k]\n",
    "  \n",
    "      # compute error of new position\n",
    "      swarm[i].error = error(swarm[i].position)\n",
    "\n",
    "      # is new position a new best for the particle?\n",
    "      if swarm[i].error < swarm[i].best_part_err:\n",
    "        swarm[i].best_part_err = swarm[i].error\n",
    "        swarm[i].best_part_pos = copy.copy(swarm[i].position)\n",
    "\n",
    "      # is new position a new best overall?\n",
    "      if swarm[i].error < best_swarm_err:\n",
    "        best_swarm_err = swarm[i].error\n",
    "        best_swarm_pos = copy.copy(swarm[i].position)\n",
    "    \n",
    "    # for-each particle\n",
    "    epoch += 1\n",
    "  # while\n",
    "  return best_swarm_pos\n",
    "# end Solve\n",
    "\n",
    "print(\"\\nBegin particle swarm optimization\n",
    " using Python demo\\n\")\n",
    "dim = 3\n",
    "print(\"Goal is to solve Rastrigin's function in \" +\n",
    " str(dim) + \" variables\")\n",
    "print(\"Function has known min = 0.0 at (\", end=\"\")\n",
    "for i in range(dim-1):\n",
    "  print(\"0, \", end=\"\")\n",
    "print(\"0)\")\n",
    "\n",
    "num_particles = 50\n",
    "max_epochs = 100\n",
    "\n",
    "print(\"Setting num_particles = \" + str(num_particles))\n",
    "print(\"Setting max_epochs    = \" + str(max_epochs))\n",
    "print(\"\\nStarting PSO algorithm\\n\")\n",
    "\n",
    "best_position = Solve(max_epochs, num_particles,\n",
    " dim, -10.0, 10.0)\n",
    "\n",
    "print(\"\\nPSO completed\\n\")\n",
    "print(\"\\nBest solution found:\")\n",
    "show_vector(best_position)\n",
    "err = error(best_position)\n",
    "print(\"Error of best solution = %.6f\" % err)\n",
    "\n",
    "print(\"\\nEnd particle swarm demo\\n\")"
   ]
  }
 ],
 "metadata": {
  "kernelspec": {
   "display_name": "Python 3",
   "language": "python",
   "name": "python3"
  },
  "language_info": {
   "codemirror_mode": {
    "name": "ipython",
    "version": 3
   },
   "file_extension": ".py",
   "mimetype": "text/x-python",
   "name": "python",
   "nbconvert_exporter": "python",
   "pygments_lexer": "ipython3",
   "version": "3.4.3"
  }
 },
 "nbformat": 4,
 "nbformat_minor": 0
}
