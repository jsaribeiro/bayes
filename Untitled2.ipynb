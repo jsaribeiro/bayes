{
 "cells": [
  {
   "cell_type": "code",
   "execution_count": 2,
   "metadata": {
    "collapsed": false
   },
   "outputs": [
    {
     "ename": "NameError",
     "evalue": "name 'parameters' is not defined",
     "output_type": "error",
     "traceback": [
      "\u001b[1;31m---------------------------------------------------------------------------\u001b[0m",
      "\u001b[1;31mNameError\u001b[0m                                 Traceback (most recent call last)",
      "\u001b[1;32m<ipython-input-2-ad41214954aa>\u001b[0m in \u001b[0;36m<module>\u001b[1;34m()\u001b[0m\n\u001b[0;32m     77\u001b[0m         \u001b[0mself\u001b[0m\u001b[1;33m.\u001b[0m\u001b[0mbest\u001b[0m \u001b[1;33m=\u001b[0m \u001b[0mparameters\u001b[0m\u001b[1;33m\u001b[0m\u001b[0m\n\u001b[0;32m     78\u001b[0m         \u001b[0mself\u001b[0m\u001b[1;33m.\u001b[0m\u001b[0merror\u001b[0m \u001b[1;33m=\u001b[0m \u001b[0merror\u001b[0m\u001b[1;33m\u001b[0m\u001b[0m\n\u001b[1;32m---> 79\u001b[1;33m \u001b[0mself\u001b[0m\u001b[1;33m.\u001b[0m\u001b[0mvelocity\u001b[0m \u001b[1;33m=\u001b[0m \u001b[0mzeros\u001b[0m\u001b[1;33m(\u001b[0m\u001b[0mlen\u001b[0m\u001b[1;33m(\u001b[0m\u001b[0mparameters\u001b[0m\u001b[1;33m)\u001b[0m\u001b[1;33m)\u001b[0m\u001b[1;33m\u001b[0m\u001b[0m\n\u001b[0m",
      "\u001b[1;31mNameError\u001b[0m: name 'parameters' is not defined"
     ]
    }
   ],
   "source": [
    "from numpy import array, copy, zeros\n",
    "from random import random\n",
    "\n",
    "\n",
    "def particle_swarm_optimize(error_func,\n",
    "                            num_parameters: int,\n",
    "                            max_iterations: int,\n",
    "                            parameter_init=random,\n",
    "                            stopping_error: float=0.0001,\n",
    "                            num_particles: int=10,\n",
    "                            max_iterations_without_improvement: int=None,\n",
    "                            c1: float=2.0,\n",
    "                            c2: float=2.0) -> (array, float):\n",
    "    \"\"\"\n",
    "    try and minimize the error func\n",
    "    :param max_iterations_without_improvement: If we have this number of consecutive iterations without\n",
    "        improvement we stop\n",
    "    :type error_func: [float] -> float\n",
    "    :param error_func: A function that takes a single argument,\n",
    "        the parameters array for the particle and returns a float\n",
    "    :param num_parameters: The number of parameters the error function array expects\n",
    "    :param max_iterations: The maximum number of iterations before stopping\n",
    "    :param parameter_init: The function to use for generating the inital parameter weights.\n",
    "        If not set random 0..1 will be used\n",
    "    :type parameter_init: () -> float\n",
    "    :param stopping_error: The returned value of the error_func at which we stop\n",
    "    :param num_particles: The number of particles to run each iteration\n",
    "    :param c1: coefficient to weight the local best\n",
    "    :param c2: coefficient to weight the global best\n",
    "    :return: tuple of array of winning parameter values, the error of the winning values\n",
    "    :rtype: (Numpy.array, float)\n",
    "    \"\"\"\n",
    "    if not max_iterations_without_improvement:\n",
    "        max_iterations_without_improvement = max_iterations\n",
    "\n",
    "    # initialize the particles\n",
    "    particles = []\n",
    "    for i in range(num_particles):\n",
    "        parameters = array([parameter_init() for _ in range(num_parameters)])\n",
    "        p = _Particle(parameters, error_func(parameters))\n",
    "        particles.append(p)\n",
    "\n",
    "    # let the first particle be the global best\n",
    "    best = min(particles, key=lambda x: x.error)\n",
    "    global_best = _Particle(copy(best.parameters), best.error)\n",
    "\n",
    "    j = 0\n",
    "    turns_without_improvement = 0\n",
    "    while j < max_iterations:\n",
    "        for p in particles:\n",
    "            velocity = p.velocity + \\\n",
    "                c1 * random() * (p.best - p.parameters) + \\\n",
    "                c2 * random() * (global_best.parameters - p.parameters)\n",
    "            p.parameters += velocity\n",
    "\n",
    "            error = error_func(p.parameters)\n",
    "            if error < p.error:\n",
    "                p.error = error\n",
    "                p.best = copy(p.parameters)\n",
    "\n",
    "            if error < global_best.error:\n",
    "                global_best.parameters = copy(p.parameters)\n",
    "                global_best.error = p.error\n",
    "                turns_without_improvement = 0\n",
    "                if error < stopping_error:\n",
    "                    break\n",
    "        if turns_without_improvement == max_iterations_without_improvement:\n",
    "            break\n",
    "        turns_without_improvement += 1\n",
    "\n",
    "        j += 1\n",
    "\n",
    "    return global_best.parameters, global_best.error\n",
    "\n",
    "\n",
    "class _Particle:\n",
    "    def __init__(self, parameters: array, error: float):\n",
    "        self.parameters = parameters\n",
    "        self.best = parameters\n",
    "        self.error = error\n",
    "self.velocity = zeros(len(parameters))"
   ]
  },
  {
   "cell_type": "code",
   "execution_count": 1,
   "metadata": {
    "collapsed": false
   },
   "outputs": [
    {
     "ename": "ImportError",
     "evalue": "No module named 'pso'",
     "output_type": "error",
     "traceback": [
      "\u001b[1;31m---------------------------------------------------------------------------\u001b[0m",
      "\u001b[1;31mImportError\u001b[0m                               Traceback (most recent call last)",
      "\u001b[1;32m<ipython-input-1-f565534299d7>\u001b[0m in \u001b[0;36m<module>\u001b[1;34m()\u001b[0m\n\u001b[0;32m      1\u001b[0m \u001b[1;32mfrom\u001b[0m \u001b[0munittest\u001b[0m \u001b[1;32mimport\u001b[0m \u001b[0mTestCase\u001b[0m\u001b[1;33m\u001b[0m\u001b[0m\n\u001b[0;32m      2\u001b[0m \u001b[1;32mfrom\u001b[0m \u001b[0mmath\u001b[0m \u001b[1;32mimport\u001b[0m \u001b[0msin\u001b[0m\u001b[1;33m,\u001b[0m \u001b[0msqrt\u001b[0m\u001b[1;33m\u001b[0m\u001b[0m\n\u001b[1;32m----> 3\u001b[1;33m \u001b[1;32mfrom\u001b[0m \u001b[0mpso\u001b[0m\u001b[1;33m.\u001b[0m\u001b[0mpso\u001b[0m \u001b[1;32mimport\u001b[0m \u001b[0mparticle_swarm_optimize\u001b[0m\u001b[1;33m\u001b[0m\u001b[0m\n\u001b[0m\u001b[0;32m      4\u001b[0m \u001b[1;33m\u001b[0m\u001b[0m\n\u001b[0;32m      5\u001b[0m \u001b[1;33m\u001b[0m\u001b[0m\n",
      "\u001b[1;31mImportError\u001b[0m: No module named 'pso'"
     ]
    }
   ],
   "source": [
    "from unittest import TestCase\n",
    "from math import sin, sqrt\n",
    "from pso.pso import particle_swarm_optimize\n",
    "\n",
    "\n",
    "class TestPSO(TestCase):\n",
    "    def test_simplest(self):\n",
    "        def simple_error(args):\n",
    "            return args[0]\n",
    "\n",
    "        result, best = particle_swarm_optimize(simple_error,\n",
    "                                               1,\n",
    "                                               100)\n",
    "        self.assertLess(result[0], 0.1)\n",
    "\n",
    "    def test_f6(self):\n",
    "        def f6(parameters):\n",
    "            para = parameters[0:2]\n",
    "            numerator = (sin(sqrt((para[0] * para[0]) + (para[1] * para[1])))) * \\\n",
    "                        (sin(sqrt((para[0] * para[0]) + (para[1] * para[1])))) - 0.5\n",
    "            denominator = (1.0 + 0.001 * ((para[0] * para[0]) + (para[1] * para[1]))) * \\\n",
    "                          (1.0 + 0.001 * ((para[0] * para[0]) + (para[1] * para[1])))\n",
    "            x = 0.5 - (numerator / denominator)\n",
    "            return 1 - x\n",
    "\n",
    "        result, best = particle_swarm_optimize(f6,\n",
    "                                               2,\n",
    "                                               100)\n",
    "self.assertLess(result[0], 0.1)"
   ]
  },
  {
   "cell_type": "code",
   "execution_count": null,
   "metadata": {
    "collapsed": true
   },
   "outputs": [],
   "source": []
  }
 ],
 "metadata": {
  "kernelspec": {
   "display_name": "Python 3",
   "language": "python",
   "name": "python3"
  },
  "language_info": {
   "codemirror_mode": {
    "name": "ipython",
    "version": 3
   },
   "file_extension": ".py",
   "mimetype": "text/x-python",
   "name": "python",
   "nbconvert_exporter": "python",
   "pygments_lexer": "ipython3",
   "version": "3.4.3"
  }
 },
 "nbformat": 4,
 "nbformat_minor": 0
}
